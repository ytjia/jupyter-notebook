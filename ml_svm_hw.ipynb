{
 "cells": [
  {
   "cell_type": "code",
   "execution_count": 2,
   "metadata": {
    "ExecuteTime": {
     "end_time": "2016-12-06T14:40:42.085422",
     "start_time": "2016-12-06T14:40:42.077662"
    },
    "collapsed": false
   },
   "outputs": [],
   "source": [
    "%matplotlib inline"
   ]
  },
  {
   "cell_type": "markdown",
   "metadata": {},
   "source": [
    "# Salary Predict Problem"
   ]
  },
  {
   "cell_type": "markdown",
   "metadata": {},
   "source": [
    "** Consts **"
   ]
  },
  {
   "cell_type": "code",
   "execution_count": 3,
   "metadata": {
    "ExecuteTime": {
     "end_time": "2016-12-06T14:42:01.788597",
     "start_time": "2016-12-06T14:41:58.800734"
    },
    "collapsed": true
   },
   "outputs": [],
   "source": [
    "from sklearn import svm\n",
    "from sklearn import preprocessing\n",
    "from sklearn.preprocessing import Imputer\n",
    "from sklearn.feature_extraction import DictVectorizer\n",
    "import numpy as np\n",
    "import pandas as pd\n",
    "\n",
    "# input file location\n",
    "labeled_data_path = \"data-box/salary.labeled.csv\"\n",
    "predict_data_path = \"data-box/salary.2Predict.csv\""
   ]
  },
  {
   "cell_type": "code",
   "execution_count": 4,
   "metadata": {
    "ExecuteTime": {
     "end_time": "2016-12-06T14:42:11.625613",
     "start_time": "2016-12-06T14:42:11.370477"
    },
    "collapsed": false
   },
   "outputs": [
    {
     "data": {
      "text/html": [
       "<div>\n",
       "<table border=\"1\" class=\"dataframe\">\n",
       "  <thead>\n",
       "    <tr style=\"text-align: right;\">\n",
       "      <th></th>\n",
       "      <th>age</th>\n",
       "      <th>fnlwgt</th>\n",
       "      <th>e-num</th>\n",
       "      <th>capital-gain</th>\n",
       "      <th>capital-loss</th>\n",
       "      <th>hours-p-w</th>\n",
       "    </tr>\n",
       "  </thead>\n",
       "  <tbody>\n",
       "    <tr>\n",
       "      <th>count</th>\n",
       "      <td>3884.000000</td>\n",
       "      <td>3884.000000</td>\n",
       "      <td>3884.000000</td>\n",
       "      <td>3884.000000</td>\n",
       "      <td>3884.000000</td>\n",
       "      <td>3884.000000</td>\n",
       "    </tr>\n",
       "    <tr>\n",
       "      <th>mean</th>\n",
       "      <td>38.460608</td>\n",
       "      <td>187328.473738</td>\n",
       "      <td>9.995881</td>\n",
       "      <td>952.218332</td>\n",
       "      <td>98.217559</td>\n",
       "      <td>40.525489</td>\n",
       "    </tr>\n",
       "    <tr>\n",
       "      <th>std</th>\n",
       "      <td>13.574140</td>\n",
       "      <td>104550.008604</td>\n",
       "      <td>2.554678</td>\n",
       "      <td>6974.574207</td>\n",
       "      <td>421.633994</td>\n",
       "      <td>12.551685</td>\n",
       "    </tr>\n",
       "    <tr>\n",
       "      <th>min</th>\n",
       "      <td>17.000000</td>\n",
       "      <td>13492.000000</td>\n",
       "      <td>1.000000</td>\n",
       "      <td>0.000000</td>\n",
       "      <td>0.000000</td>\n",
       "      <td>1.000000</td>\n",
       "    </tr>\n",
       "    <tr>\n",
       "      <th>25%</th>\n",
       "      <td>28.000000</td>\n",
       "      <td>114510.000000</td>\n",
       "      <td>9.000000</td>\n",
       "      <td>0.000000</td>\n",
       "      <td>0.000000</td>\n",
       "      <td>40.000000</td>\n",
       "    </tr>\n",
       "    <tr>\n",
       "      <th>50%</th>\n",
       "      <td>37.000000</td>\n",
       "      <td>176255.000000</td>\n",
       "      <td>10.000000</td>\n",
       "      <td>0.000000</td>\n",
       "      <td>0.000000</td>\n",
       "      <td>40.000000</td>\n",
       "    </tr>\n",
       "    <tr>\n",
       "      <th>75%</th>\n",
       "      <td>48.000000</td>\n",
       "      <td>238180.750000</td>\n",
       "      <td>12.000000</td>\n",
       "      <td>0.000000</td>\n",
       "      <td>0.000000</td>\n",
       "      <td>45.000000</td>\n",
       "    </tr>\n",
       "    <tr>\n",
       "      <th>max</th>\n",
       "      <td>90.000000</td>\n",
       "      <td>914061.000000</td>\n",
       "      <td>16.000000</td>\n",
       "      <td>99999.000000</td>\n",
       "      <td>2559.000000</td>\n",
       "      <td>99.000000</td>\n",
       "    </tr>\n",
       "  </tbody>\n",
       "</table>\n",
       "</div>"
      ],
      "text/plain": [
       "               age         fnlwgt        e-num  capital-gain  capital-loss  \\\n",
       "count  3884.000000    3884.000000  3884.000000   3884.000000   3884.000000   \n",
       "mean     38.460608  187328.473738     9.995881    952.218332     98.217559   \n",
       "std      13.574140  104550.008604     2.554678   6974.574207    421.633994   \n",
       "min      17.000000   13492.000000     1.000000      0.000000      0.000000   \n",
       "25%      28.000000  114510.000000     9.000000      0.000000      0.000000   \n",
       "50%      37.000000  176255.000000    10.000000      0.000000      0.000000   \n",
       "75%      48.000000  238180.750000    12.000000      0.000000      0.000000   \n",
       "max      90.000000  914061.000000    16.000000  99999.000000   2559.000000   \n",
       "\n",
       "         hours-p-w  \n",
       "count  3884.000000  \n",
       "mean     40.525489  \n",
       "std      12.551685  \n",
       "min       1.000000  \n",
       "25%      40.000000  \n",
       "50%      40.000000  \n",
       "75%      45.000000  \n",
       "max      99.000000  "
      ]
     },
     "execution_count": 4,
     "metadata": {},
     "output_type": "execute_result"
    }
   ],
   "source": [
    "def load_data(data_path):\n",
    "    # load input data\n",
    "    dtypes = {\n",
    "        'workclass': str,\n",
    "        'education': str,\n",
    "        'marital-status': str,\n",
    "        'ocupation': str,\n",
    "        'relationship': str,\n",
    "        'race': str,\n",
    "        'sex': str,\n",
    "        'native-country': str,\n",
    "        'label-str': str,\n",
    "        'age': np.float64,\n",
    "        'fnlwgt': np.float64,\n",
    "        'e-num': np.float64,\n",
    "        'capital-gain': np.float64,\n",
    "        'capital-loss': np.float64,\n",
    "        'hours-p-w': np.float64\n",
    "    }\n",
    "\n",
    "    data = pd.read_csv(\n",
    "        data_path,\n",
    "        header=None,\n",
    "        index_col=False,\n",
    "        na_values=['?'],\n",
    "        skipinitialspace=True,\n",
    "        names=[\n",
    "            'age', 'workclass', 'fnlwgt', 'education', 'e-num',\n",
    "            'marital-status', 'ocupation', 'relationship', 'race', 'sex',\n",
    "            'capital-gain', 'capital-loss', 'hours-p-w', 'native-country',\n",
    "            'label-str'\n",
    "        ],\n",
    "        engine='c',\n",
    "        dtype=dtypes)\n",
    "    return data\n",
    "\n",
    "\n",
    "labeled_data = load_data(labeled_data_path).sample(frac=0.1)\n",
    "predict_data = load_data(predict_data_path)\n",
    "labeled_data.describe()\n",
    "# pos: neg = 9305: 29537"
   ]
  },
  {
   "cell_type": "code",
   "execution_count": 11,
   "metadata": {
    "ExecuteTime": {
     "end_time": "2016-12-06T14:45:52.732987",
     "start_time": "2016-12-06T14:45:52.721620"
    },
    "collapsed": false
   },
   "outputs": [],
   "source": [
    "def extract_label_from_data(data):\n",
    "    def f(r):\n",
    "        if \">50K\" in r:\n",
    "            return 1\n",
    "        else:\n",
    "            return 0\n",
    "    label = data[\"label-str\"].astype(str).apply(lambda x: f(x)).values\n",
    "    return label\n",
    "label = extract_label_from_data(labeled_data)"
   ]
  },
  {
   "cell_type": "markdown",
   "metadata": {},
   "source": [
    "## Solution A"
   ]
  },
  {
   "cell_type": "code",
   "execution_count": 8,
   "metadata": {
    "ExecuteTime": {
     "end_time": "2016-12-06T14:44:30.385474",
     "start_time": "2016-12-06T14:44:30.374132"
    },
    "collapsed": true
   },
   "outputs": [],
   "source": [
    "def encode_onehot(df, cols):\n",
    "    \"\"\"\n",
    "    One-hot encoding is applied to columns specified in a pandas DataFrame.\n",
    "    \n",
    "    Modified from: https://gist.github.com/kljensen/5452382\n",
    "    \n",
    "    Details:\n",
    "    \n",
    "    http://en.wikipedia.org/wiki/One-hot\n",
    "    http://scikit-learn.org/stable/modules/generated/sklearn.preprocessing.OneHotEncoder.html\n",
    "    \n",
    "    @param df pandas DataFrame\n",
    "    @param cols a list of columns to encode\n",
    "    @return a DataFrame with one-hot encoding\n",
    "    \"\"\"\n",
    "    df = df.fillna(\"NaN\")\n",
    "\n",
    "    vec = DictVectorizer()\n",
    "\n",
    "    vec_data = pd.DataFrame(\n",
    "        vec.fit_transform(df[cols].to_dict(orient='records')).toarray())\n",
    "    vec_data.columns = vec.get_feature_names()\n",
    "    vec_data.index = df.index\n",
    "\n",
    "    df = df.drop(cols, axis=1)\n",
    "    for col in cols:\n",
    "        if col in vec_data.columns:\n",
    "            vec_data.drop(col, axis=1, inplace=True)\n",
    "    df = df.join(vec_data)\n",
    "    return df"
   ]
  },
  {
   "cell_type": "code",
   "execution_count": 9,
   "metadata": {
    "ExecuteTime": {
     "end_time": "2016-12-06T14:44:32.289530",
     "start_time": "2016-12-06T14:44:32.097202"
    },
    "collapsed": false
   },
   "outputs": [],
   "source": [
    "# Feature数据集\n",
    "df_2_encode = labeled_data[['workclass', 'education', 'marital-status', \n",
    "                            'ocupation', 'relationship', 'race', 'sex', \n",
    "                            'native-country']]\n",
    "df_2_miss = labeled_data[['age', 'fnlwgt', 'e-num', 'capital-gain', \n",
    "                          'capital-loss', 'hours-p-w']]\n",
    "\n",
    "# category特征one-hot\n",
    "df_2_encode_r = encode_onehot(df_2_encode, \n",
    "                              cols=['workclass', 'education', \n",
    "                                    'marital-status', 'ocupation', \n",
    "                                    'relationship', 'race', 'sex',\n",
    "                                    'native-country'])\n",
    "\n",
    "# missing\n",
    "imp = Imputer(missing_values='NaN', strategy='mean', axis=0)\n",
    "imp.fit(df_2_miss.astype(float).values)\n",
    "df_2_miss_r = imp.transform(df_2_miss)\n",
    "\n",
    "# 数值区间映射\n",
    "min_max_scaler = preprocessing.MinMaxScaler(feature_range=(-1, 1))\n",
    "df_2_miss_range_r = min_max_scaler.fit_transform(df_2_miss_r)\n",
    "\n",
    "features = np.concatenate((df_2_miss_range_r, df_2_encode_r), axis=1)"
   ]
  },
  {
   "cell_type": "code",
   "execution_count": 12,
   "metadata": {
    "ExecuteTime": {
     "end_time": "2016-12-06T14:45:59.035328",
     "start_time": "2016-12-06T14:45:59.018816"
    },
    "collapsed": false
   },
   "outputs": [],
   "source": [
    "# split input data to training-set and testing-set\n",
    "from sklearn.model_selection import train_test_split\n",
    "\n",
    "X_train, X_test, y_train, y_test = train_test_split(features, label, test_size=0.2)"
   ]
  },
  {
   "cell_type": "code",
   "execution_count": 14,
   "metadata": {
    "collapsed": false
   },
   "outputs": [
    {
     "data": {
      "text/plain": [
       "SVC(C=1.0, cache_size=200, class_weight=None, coef0=0.0,\n",
       "  decision_function_shape=None, degree=3, gamma='auto', kernel='rbf',\n",
       "  max_iter=-1, probability=False, random_state=None, shrinking=True,\n",
       "  tol=0.001, verbose=False)"
      ]
     },
     "execution_count": 14,
     "metadata": {},
     "output_type": "execute_result"
    }
   ],
   "source": [
    "# train\n",
    "clf = svm.SVC()\n",
    "clf.fit(X_train, y_train)"
   ]
  },
  {
   "cell_type": "code",
   "execution_count": 40,
   "metadata": {
    "collapsed": false
   },
   "outputs": [],
   "source": [
    "# predict test\n",
    "y_pred = clf.predict(X_test)"
   ]
  },
  {
   "cell_type": "code",
   "execution_count": 136,
   "metadata": {
    "collapsed": false
   },
   "outputs": [
    {
     "name": "stdout",
     "output_type": "stream",
     "text": [
      "             precision    recall  f1-score   support\n",
      "\n",
      "          0       0.86      0.94      0.90      5965\n",
      "          1       0.71      0.50      0.59      1804\n",
      "\n",
      "avg / total       0.83      0.84      0.83      7769\n",
      "\n"
     ]
    }
   ],
   "source": [
    "# metric\n",
    "from sklearn.metrics import classification_report\n",
    "print classification_report(y_test, y_pred)"
   ]
  },
  {
   "cell_type": "code",
   "execution_count": 77,
   "metadata": {
    "collapsed": false,
    "scrolled": true
   },
   "outputs": [
    {
     "name": "stdout",
     "output_type": "stream",
     "text": [
      "# Tuning hyper-parameters for accuracy\n",
      "()\n",
      "Best parameters set found on development set:\n",
      "()\n",
      "{'kernel': 'rbf', 'C': 1, 'gamma': 0.001}\n",
      "()\n",
      "Grid scores on development set:\n",
      "()\n",
      "0.745 (+/-0.001) for {'kernel': 'rbf', 'C': 1, 'gamma': 0.001}\n",
      "0.745 (+/-0.001) for {'kernel': 'rbf', 'C': 1, 'gamma': 0.0001}\n",
      "0.745 (+/-0.001) for {'kernel': 'rbf', 'C': 10, 'gamma': 0.001}\n",
      "0.745 (+/-0.001) for {'kernel': 'rbf', 'C': 10, 'gamma': 0.0001}\n",
      "0.745 (+/-0.001) for {'kernel': 'rbf', 'C': 100, 'gamma': 0.001}\n",
      "0.745 (+/-0.001) for {'kernel': 'rbf', 'C': 100, 'gamma': 0.0001}\n",
      "0.740 (+/-0.008) for {'kernel': 'rbf', 'C': 1000, 'gamma': 0.001}\n",
      "0.745 (+/-0.001) for {'kernel': 'rbf', 'C': 1000, 'gamma': 0.0001}\n",
      "0.740 (+/-0.008) for {'kernel': 'linear', 'C': 1}\n",
      "0.738 (+/-0.012) for {'kernel': 'linear', 'C': 10}\n",
      "0.738 (+/-0.012) for {'kernel': 'linear', 'C': 100}\n",
      "0.738 (+/-0.012) for {'kernel': 'linear', 'C': 1000}\n",
      "()\n",
      "Detailed classification report:\n",
      "()\n",
      "The model is trained on the full development set.\n",
      "The scores are computed on the full evaluation set.\n",
      "()\n",
      "             precision    recall  f1-score   support\n",
      "\n",
      "          0       0.76      1.00      0.86       881\n",
      "          1       0.00      0.00      0.00       285\n",
      "\n",
      "avg / total       0.57      0.76      0.65      1166\n",
      "\n",
      "()\n"
     ]
    }
   ],
   "source": [
    "# model selection\n",
    "from sklearn.model_selection import train_test_split\n",
    "from sklearn.model_selection import GridSearchCV\n",
    "from sklearn.metrics import classification_report\n",
    "from sklearn.svm import SVC\n",
    "\n",
    "# Split the dataset in two equal parts\n",
    "X_train, X_test, y_train, y_test = train_test_split(features, label, test_size=0.3)\n",
    "\n",
    "# Set the parameters by cross-validation\n",
    "tuned_parameters = [{'kernel': ['rbf'], 'gamma': [1e-3, 1e-4], 'C': [1, 10, 100, 1000]},\n",
    "                    {'kernel': ['linear'], 'C': [1, 10, 100, 1000]}]\n",
    "\n",
    "scores = ['accuracy']\n",
    "\n",
    "for score in scores:\n",
    "    print(\"# Tuning hyper-parameters for %s\" % score)\n",
    "    print()\n",
    "\n",
    "    clf = GridSearchCV(SVC(C=1), tuned_parameters, cv=5, scoring='%s' % score)\n",
    "    clf.fit(X_train, y_train)\n",
    "\n",
    "    print(\"Best parameters set found on development set:\")\n",
    "    print()\n",
    "    print(clf.best_params_)\n",
    "    print()\n",
    "    print(\"Grid scores on development set:\")\n",
    "    print()\n",
    "    means = clf.cv_results_['mean_test_score']\n",
    "    stds = clf.cv_results_['std_test_score']\n",
    "    for mean, std, params in zip(means, stds, clf.cv_results_['params']):\n",
    "        print(\"%0.3f (+/-%0.03f) for %r\" % (mean, std * 2, params))\n",
    "    print()\n",
    "\n",
    "    print(\"Detailed classification report:\")\n",
    "    print()\n",
    "    print(\"The model is trained on the full development set.\")\n",
    "    print(\"The scores are computed on the full evaluation set.\")\n",
    "    print()\n",
    "    y_true, y_pred = y_test, clf.predict(X_test)\n",
    "    print(classification_report(y_true, y_pred))\n",
    "    print()\n"
   ]
  },
  {
   "cell_type": "markdown",
   "metadata": {
    "collapsed": true
   },
   "source": [
    "## Solution B with pipeline"
   ]
  },
  {
   "cell_type": "code",
   "execution_count": 17,
   "metadata": {
    "ExecuteTime": {
     "end_time": "2016-12-06T14:48:33.164584",
     "start_time": "2016-12-06T14:48:30.934697"
    },
    "collapsed": false,
    "scrolled": true
   },
   "outputs": [
    {
     "name": "stdout",
     "output_type": "stream",
     "text": [
      "             precision    recall  f1-score   support\n",
      "\n",
      "          0       0.86      0.95      0.90      2979\n",
      "          1       0.75      0.49      0.59       905\n",
      "\n",
      "avg / total       0.83      0.84      0.83      3884\n",
      "\n"
     ]
    }
   ],
   "source": [
    "# create Pipeline & dump\n",
    "from sklearn.pipeline import Pipeline, make_pipeline\n",
    "from sklearn.metrics import classification_report\n",
    "from sklearn.base import TransformerMixin    \n",
    "from sklearn.externals import joblib\n",
    "\n",
    "data = labeled_data.drop(\"label-str\", axis=1).to_dict(orient='records')\n",
    "\n",
    "pipe = Pipeline(steps=[('dictVectorizer', DictVectorizer(sparse=False)), \n",
    "                       ('imputer', Imputer(missing_values='NaN', strategy='mean', axis=0)), \n",
    "                       ('minMaxScaler', preprocessing.MinMaxScaler(feature_range=(-1, 1))),\n",
    "                       ('svc', svm.SVC())])\n",
    "\n",
    "\n",
    "estimator = pipe.fit(data, label)\n",
    "joblib.dump(estimator, 'model/svc_pipe.pkl') \n",
    "\n",
    "pred = estimator.predict(data)\n",
    "print classification_report(label, pred)"
   ]
  },
  {
   "cell_type": "code",
   "execution_count": null,
   "metadata": {
    "ExecuteTime": {
     "start_time": "2016-12-06T06:48:37.071Z"
    },
    "collapsed": false
   },
   "outputs": [],
   "source": [
    "# model selection\n",
    "from sklearn.model_selection import GridSearchCV\n",
    "\n",
    "tuned_parameters = [{'kernel': ['rbf'], 'gamma': [1e-3, 1e-4], 'C': [1, 10, 100, 1000]},\n",
    "                    {'kernel': ['linear'], 'C': [1, 10, 100, 1000]}]\n",
    "params = dict(svc__kernel=['rbf'], \n",
    "              svc__gamma=[1e-3, 1e-4],\n",
    "              svc__C=[1, 10, 100, 1000])\n",
    "grid_search = GridSearchCV(pipe, param_grid=params, cv=5, scoring='accuracy')\n",
    "grid_search.fit(data, pred)"
   ]
  },
  {
   "cell_type": "code",
   "execution_count": 66,
   "metadata": {
    "collapsed": false
   },
   "outputs": [
    {
     "data": {
      "text/plain": [
       "array([0, 0, 0, ..., 0, 1, 0])"
      ]
     },
     "execution_count": 66,
     "metadata": {},
     "output_type": "execute_result"
    }
   ],
   "source": [
    "# load pipeline & predict\n",
    "estimator_loaded = joblib.load('svc_pipe.pkl') \n",
    "predict_set = predict_data.drop(\"label-str\", axis=1).to_dict(orient='records')\n",
    "estimator.predict(predict_set)"
   ]
  },
  {
   "cell_type": "code",
   "execution_count": 6,
   "metadata": {
    "ExecuteTime": {
     "end_time": "2016-12-06T14:43:54.840090",
     "start_time": "2016-12-06T14:43:54.821135"
    },
    "collapsed": false
   },
   "outputs": [
    {
     "ename": "NameError",
     "evalue": "name 'grid_search' is not defined",
     "output_type": "error",
     "traceback": [
      "\u001b[0;31m---------------------------------------------------------------------------\u001b[0m",
      "\u001b[0;31mNameError\u001b[0m                                 Traceback (most recent call last)",
      "\u001b[0;32m<ipython-input-6-e1c2ca246f40>\u001b[0m in \u001b[0;36m<module>\u001b[0;34m()\u001b[0m\n\u001b[0;32m----> 1\u001b[0;31m \u001b[0mgrid_search\u001b[0m\u001b[0;34m.\u001b[0m\u001b[0mcv_results_\u001b[0m\u001b[0;34m\u001b[0m\u001b[0m\n\u001b[0m",
      "\u001b[0;31mNameError\u001b[0m: name 'grid_search' is not defined"
     ]
    }
   ],
   "source": [
    "grid_search.cv_results_"
   ]
  },
  {
   "cell_type": "code",
   "execution_count": null,
   "metadata": {
    "collapsed": true
   },
   "outputs": [],
   "source": []
  }
 ],
 "metadata": {
  "kernelspec": {
   "display_name": "Python 2",
   "language": "python",
   "name": "python2"
  },
  "language_info": {
   "codemirror_mode": {
    "name": "ipython",
    "version": 2
   },
   "file_extension": ".py",
   "mimetype": "text/x-python",
   "name": "python",
   "nbconvert_exporter": "python",
   "pygments_lexer": "ipython2",
   "version": "2.7.12"
  },
  "latex_envs": {
   "bibliofile": "biblio.bib",
   "cite_by": "apalike",
   "current_citInitial": 1,
   "eqLabelWithNumbers": true,
   "eqNumInitial": 0
  }
 },
 "nbformat": 4,
 "nbformat_minor": 0
}
